{
 "cells": [
  {
   "cell_type": "code",
   "execution_count": 79,
   "metadata": {},
   "outputs": [],
   "source": [
    "import numpy as np\n",
    "import matplotlib.pyplot as plt\n",
    "import math\n",
    "from numpy import random as rd"
   ]
  },
  {
   "cell_type": "markdown",
   "metadata": {},
   "source": [
    "Functions that generate matrices :"
   ]
  },
  {
   "cell_type": "code",
   "execution_count": 80,
   "metadata": {},
   "outputs": [],
   "source": [
    "def N(x): \n",
    "    #density function of Normal(mu, sigma) distribution\n",
    "    temp=(x-mu)/sigma\n",
    "    factor= -(temp*temp)/2\n",
    "    quotient = sigma*math.sqrt(2*math.pi)\n",
    "    y = math.exp(factor) /quotient\n",
    "    return y"
   ]
  },
  {
   "cell_type": "code",
   "execution_count": 81,
   "metadata": {},
   "outputs": [],
   "source": [
    "def g_mat(n): \n",
    "    #generate an nxn matrix with normally ditributed entries\n",
    "    mat=[]\n",
    "    for i in range(n):\n",
    "        row=[]\n",
    "        for j in range(n):\n",
    "            x=rd.random() #this is in [0,1)\n",
    "            y=N(x) #I can transform N(x) if I want\n",
    "            row.append(y)\n",
    "        mat.append(row)\n",
    "    return mat"
   ]
  },
  {
   "cell_type": "code",
   "execution_count": 82,
   "metadata": {},
   "outputs": [],
   "source": [
    "def flip_I(k,n):\n",
    "    #generates unitary nxn matrix that flips the sign of k-th eigenvalue\n",
    "    mat=np.identity(n)\n",
    "    mat[k,k]=-1\n",
    "    return mat"
   ]
  },
  {
   "cell_type": "markdown",
   "metadata": {},
   "source": [
    "Part 2. Function that generates an orthonormal matrix"
   ]
  },
  {
   "cell_type": "code",
   "execution_count": 83,
   "metadata": {},
   "outputs": [],
   "source": [
    "def ortho_mat(n):\n",
    "    #uses an array of symmetric matrices to get a nxn orthogonal matrix\n",
    "    A=g_mat(n)\n",
    "    Q=Householder(A)[0]\n",
    "    return Q"
   ]
  },
  {
   "cell_type": "markdown",
   "metadata": {},
   "source": [
    "Part 3. Functions that generate Hessenberg and Tridigonal symmetric matrices"
   ]
  },
  {
   "cell_type": "code",
   "execution_count": 84,
   "metadata": {},
   "outputs": [],
   "source": [
    "def Hessenberg (B):\n",
    "    #turns an nxn random matrix into Hessenberg form\n",
    "    cpy=B.copy()\n",
    "    b=extract_minor(cpy)\n",
    "    H=Householder(b)[1].tolist() #we turn the lower n-1xn-1 minor of A into a triangular matrix\n",
    "        \n",
    "    for i in range(len(cpy)-1):#then we put the hessenberg matrix together\n",
    "        H[i].append(cpy[i+1][len(cpy)-1])\n",
    "    H.insert(0, cpy[0])\n",
    "    \n",
    "    return H"
   ]
  },
  {
   "cell_type": "code",
   "execution_count": 85,
   "metadata": {},
   "outputs": [],
   "source": [
    "def Trid (B):\n",
    "    #turns a given random nxn matrix into a symmetric tridiagonal matrix\n",
    "    H=Hessenberg (B)\n",
    "    trid=H.copy()\n",
    "    for i in range(len(B)):\n",
    "        for j in range(len(B)):\n",
    "            if abs(i-j)>1:\n",
    "                trid[i][j]=0\n",
    "            else :\n",
    "                if i>j:\n",
    "                    trid[i][j]=trid[j][i]\n",
    "                else:\n",
    "                    m=0\n",
    "    return trid"
   ]
  },
  {
   "cell_type": "markdown",
   "metadata": {},
   "source": [
    "Part 5. function that generates a random symmetric matrix wiht prescribed eigenvalues"
   ]
  },
  {
   "cell_type": "code",
   "execution_count": 86,
   "metadata": {},
   "outputs": [],
   "source": [
    "def symm_mat(L):\n",
    "    #given a set of n eigenvalues, generates a random symmetric nxn matrix with same set of eigenvalues\n",
    "    Q=ortho_mat(len(L))\n",
    "    A=np.matmul(np.transpose(Q), np.matmul(L,Q))\n",
    "    return A"
   ]
  },
  {
   "cell_type": "markdown",
   "metadata": {},
   "source": [
    "Norm functions :"
   ]
  },
  {
   "cell_type": "code",
   "execution_count": 87,
   "metadata": {},
   "outputs": [],
   "source": [
    "def L2_norm(vector):\n",
    "    n=len(vector)\n",
    "    norm=0\n",
    "    for i in range(n):\n",
    "        temp=vector[i]*vector[i]\n",
    "        norm+=temp\n",
    "    norm=math.sqrt(norm)\n",
    "    return norm"
   ]
  },
  {
   "cell_type": "code",
   "execution_count": 88,
   "metadata": {},
   "outputs": [],
   "source": [
    "def matrix_norm(mat):\n",
    "    #computes the L_{\\infty} norm of an nxn matrix\n",
    "    n=len(mat)\n",
    "    norm=0\n",
    "    for i in range(n):\n",
    "        for j in range(n):\n",
    "            temp=abs(mat[i][j])\n",
    "            if temp>norm:\n",
    "                norm=temp\n",
    "    return norm"
   ]
  },
  {
   "cell_type": "markdown",
   "metadata": {},
   "source": [
    "Matrix manipulation functions :"
   ]
  },
  {
   "cell_type": "code",
   "execution_count": 89,
   "metadata": {},
   "outputs": [],
   "source": [
    "def extract_minor(B):\n",
    "    #outputs n-1 minor of A an nxn matrix\n",
    "    mat=[]\n",
    "    for i in range(len(B)-1):\n",
    "        row=[]\n",
    "        for j in range(len(B)-1):\n",
    "            row.append(B[i+1][j+1])\n",
    "        mat.append(row)\n",
    "    return mat"
   ]
  },
  {
   "cell_type": "code",
   "execution_count": 90,
   "metadata": {},
   "outputs": [],
   "source": [
    "def sizedQ (R, k):\n",
    "    #takes a submatrix and reformats it into kxk\n",
    "    I=np.identity(k-len(R))\n",
    "    mat= np.block([\n",
    "    [I,               np.zeros((k-len(R), len(R)))],\n",
    "    [np.zeros((len(R), k-len(R))), R               ]\n",
    "    ])\n",
    "    return mat"
   ]
  },
  {
   "cell_type": "markdown",
   "metadata": {},
   "source": [
    "Part 1. QR factorisation using Householder reflections :"
   ]
  },
  {
   "cell_type": "code",
   "execution_count": 91,
   "metadata": {},
   "outputs": [],
   "source": [
    "def find_Q_list(B):\n",
    "    #part of Householder reflections\n",
    "    Q_list=[]\n",
    "    n=len(B)\n",
    "\n",
    "    for i in range(n-1):\n",
    "        x=[]\n",
    "        for j in range(len(B)):\n",
    "            x.append(B[j][0])#extract first row\n",
    "        alpha=L2_norm(x)\n",
    "        u=x-alpha*np.identity(n-i)[0]\n",
    "        v=u/L2_norm(u)\n",
    "        Q=np.identity(n-i)-2*np.outer(np.transpose(v),v)\n",
    "        Q_sized=sizedQ(Q,n)\n",
    "        Q_list.append(Q_sized)\n",
    "        B= np.matmul(Q, B)\n",
    "        B= extract_minor(B)\n",
    "    return Q_list"
   ]
  },
  {
   "cell_type": "code",
   "execution_count": 92,
   "metadata": {},
   "outputs": [],
   "source": [
    "def find_Q_R(Q_list, B):\n",
    "    #part of Householder reflections\n",
    "    R=Q_list[len(Q_list)-1]\n",
    "    Q=np.transpose(Q_list[0])\n",
    "\n",
    "    for i in range(len(Q_list)-1):\n",
    "        R=np.matmul(R, Q_list[len(Q_list)-2-i])\n",
    "        Q=np.matmul(Q, np.transpose(Q_list[i+1]))\n",
    "    \n",
    "    R=np.matmul(R,B)\n",
    "    return [Q, R]"
   ]
  },
  {
   "cell_type": "code",
   "execution_count": 93,
   "metadata": {},
   "outputs": [],
   "source": [
    "def post_prod(Q,R):\n",
    "    #multiplies by adequate matrix to ensure T has nonneg diagonals\n",
    "    test=Q.copy()\n",
    "    temp=R.copy()\n",
    "    for i in range(len(temp)):\n",
    "        if temp[i][i]<0:\n",
    "            temp=np.matmul(flip_I(i, len(temp)), temp)\n",
    "            test=np.matmul(test, np.transpose(flip_I(i,len(temp))))\n",
    "    return [test, temp]"
   ]
  },
  {
   "cell_type": "code",
   "execution_count": 94,
   "metadata": {},
   "outputs": [],
   "source": [
    "def Householder (B):\n",
    "    #performs QR diagonalisation using HH relfections \n",
    "    #returns Q orthonormal and R triangular st QR=A and R has nnneg entries\n",
    "    B=np.array(B)\n",
    "    og=B.copy()\n",
    "    \n",
    "    Q_list=find_Q_list(B)\n",
    "    temp=find_Q_R(Q_list, og)\n",
    "    final=post_prod(temp[0], temp[1])\n",
    "    \n",
    "    return final"
   ]
  },
  {
   "cell_type": "markdown",
   "metadata": {},
   "source": [
    "Part 4. QR factorisaiton using Rayleigh Shifts :"
   ]
  },
  {
   "cell_type": "code",
   "execution_count": 103,
   "metadata": {},
   "outputs": [],
   "source": [
    "def deflate(mat):\n",
    "    #boolean function that checks if the tridiagonal matrix is ready for deflation\n",
    "    #or if it's ready for recording\n",
    "    boolean=1\n",
    "    index=-1\n",
    "    record=0\n",
    "    if len(mat)>1:\n",
    "        for i in range(len(mat)-1):\n",
    "            if abs(mat[i][i+1]) < eps:\n",
    "                if abs(mat[i+1][i]) <eps :\n",
    "                    boolean=0\n",
    "                    index=i\n",
    "                else:\n",
    "                    p=0\n",
    "            else:\n",
    "                q=0\n",
    "    else:\n",
    "        boolean=0\n",
    "        record=1\n",
    "    return [boolean, index, record]"
   ]
  },
  {
   "cell_type": "code",
   "execution_count": 104,
   "metadata": {},
   "outputs": [],
   "source": [
    "def split(index, B):\n",
    "    #given a pivot, splits a square matrix along the diagonal into 2 square submatrices\n",
    "    #print (\"This is the matrix Im tryna split : \", B)\n",
    "    #print (\"The pivot is at \", index)\n",
    "    temp=[]\n",
    "    if index > -1 :\n",
    "        temp1=[]\n",
    "        for i in range(index+1):\n",
    "            row=[]\n",
    "            for j in range(index+1):\n",
    "                row.append(B[i][j])\n",
    "            temp1.append(row)\n",
    "        temp.append(temp1)\n",
    "        temp2=[]\n",
    "        for i in range(len(B)-index-1):\n",
    "            row=[]\n",
    "            for j in range(len(B)-index-1):\n",
    "                row.append(B[i+index+1][j+index+1])\n",
    "            temp2.append(row)\n",
    "        temp.append(temp2)\n",
    "    return temp"
   ]
  },
  {
   "cell_type": "code",
   "execution_count": 105,
   "metadata": {},
   "outputs": [],
   "source": [
    "def find_nu_list(B, boolean):\n",
    "    #computes the eigenvalues of a given tridiagonal nxn matrix\n",
    "    og=B.copy()\n",
    "    nu_list=[]\n",
    "    B_list=[og]\n",
    "    i=0\n",
    "    while len(nu_list)<len(og): #while we havent found all eigenvalues yet\n",
    "        #print (\"Am I stuck in a while loop?\")\n",
    "        M=B_list[i]\n",
    "        while deflate(M)[0]:#while the off diagonal entries aren't small enough yet\n",
    "            #print (\"Am I stuck in a while loop?\")\n",
    "            if(boolean):\n",
    "                nu= RQ(M) #do RS!\n",
    "            else:\n",
    "                nu= WS(M) #do WS!\n",
    "            mat=M-nu*np.identity(len(M))\n",
    "            QR=Householder(mat)\n",
    "            M=np.matmul(QR[1], QR[0])+nu*np.identity(len(M))\n",
    "        B_list=B_list+split(deflate(M)[1], M) #now work on minors\n",
    "        if deflate(M)[2]:#if the minors are unitary\n",
    "            nu_list.append(M[0][0]) #we've found an eigenvalue!\n",
    "        i+=1    \n",
    "    return nu_list"
   ]
  },
  {
   "cell_type": "code",
   "execution_count": 106,
   "metadata": {},
   "outputs": [],
   "source": [
    "def RQ(B):\n",
    "    #computes dominating eigenvalue of A using Raleigh quotient\n",
    "    nu=20.\n",
    "    b=np.ones((len(B),1))\n",
    "\n",
    "    for i in range(10):\n",
    "        mat=np.linalg.inv(B-nu*np.identity(len(B)))\n",
    "        temp=np.matmul(mat, b)\n",
    "        alpha=L2_norm(temp)\n",
    "        b=temp/alpha\n",
    "        b_t=np.transpose(b)\n",
    "    \n",
    "        num=np.matmul(b_t, np.matmul(B,b))\n",
    "        den=np.matmul(b_t,b)\n",
    "        nu=num/den\n",
    "    \n",
    "    return nu[0][0]"
   ]
  },
  {
   "cell_type": "code",
   "execution_count": 107,
   "metadata": {},
   "outputs": [],
   "source": [
    "def Rayleigh(B):\n",
    "    #performs Qr decomposition on a nxn tridiagonal matrix\n",
    "    eigenvalues=find_nu_list(B,1)\n",
    "    R=[[0. for i in range(len(B))] for j in range(len(B))]\n",
    "    for k in range(len(B)):\n",
    "        R[k][k]=eigenvalues[k]\n",
    "    Q=np.matmul(B, np.linalg.inv(R))\n",
    "    final=post_prod(Q,R)\n",
    "    return final\n",
    "#note that there's a bug here right now, Q isn't orthonormal, it's just a random matrix. I'm emailing about this       "
   ]
  },
  {
   "cell_type": "markdown",
   "metadata": {},
   "source": [
    "Part 4. QR factorisation using Wilkinson shifts :"
   ]
  },
  {
   "cell_type": "code",
   "execution_count": 108,
   "metadata": {},
   "outputs": [],
   "source": [
    "def WS_eig(b):\n",
    "    #computes theeigenvalue of a 2x2submat using Wilkinson shifts\n",
    "    sgn=1\n",
    "    if len(b)==2:\n",
    "        delta=(b[0][0]-b[1][1])/2\n",
    "        root=math.sqrt(delta*delta+b[0][1]*b[0][1])\n",
    "        if abs(delta)>0:\n",
    "            sgn=abs(delta)/delta\n",
    "        nu=b[1][1]-sgn*b[0][1]/(abs(delta)+root)\n",
    "    else:\n",
    "        nu=b[0][0]\n",
    "    return nu"
   ]
  },
  {
   "cell_type": "code",
   "execution_count": 109,
   "metadata": {},
   "outputs": [],
   "source": [
    "def WS(B):\n",
    "    #given a nxn tridiagonal matrix, computes Wilkinson shift\n",
    "    b=[]\n",
    "    for i in range(2):\n",
    "        row=[]\n",
    "        for j in range(2):\n",
    "            row.append(B[len(B)-2+i][len(B)-2+j])\n",
    "        b.append(row)\n",
    "    nu=WS_eig(b)\n",
    "    return nu"
   ]
  },
  {
   "cell_type": "code",
   "execution_count": 110,
   "metadata": {},
   "outputs": [],
   "source": [
    "def Wilkinson(B):\n",
    "    #performs Qr decomposition on a nxn tridiagonal matrix\n",
    "    eigenvalues=find_nu_list(B,0)\n",
    "    R=[[0. for i in range(len(B))] for j in range(len(B))]\n",
    "    for k in range(len(B)):\n",
    "        R[k][k]=eigenvalues[k]\n",
    "    Q=np.matmul(B, np.linalg.inv(R))\n",
    "    final=post_prod(Q,R)\n",
    "    return final\n",
    "#note that there's a bug here right now, Q isn't orthonormal, it's just a random matrix. I'm emailing about this "
   ]
  },
  {
   "cell_type": "code",
   "execution_count": 78,
   "metadata": {
    "scrolled": true
   },
   "outputs": [
    {
     "name": "stdout",
     "output_type": "stream",
     "text": [
      "[array([1., 0., 0., 0., 0., 0.]), array([0., 2., 0., 0., 0., 0.]), array([0., 0., 3., 0., 0., 0.]), array([0., 0., 0., 4., 0., 0.]), array([0., 0., 0., 0., 5., 0.]), array([0., 0., 0., 0., 0., 6.])]\n",
      "[[ 3.42937224  0.51844959 -0.60251043  0.80063775  0.66699488 -1.09067671]\n",
      " [ 0.51844959  3.19261447  0.16482415  0.25105202  0.61132038  0.07567567]\n",
      " [-0.60251043  0.16482415  4.9509587  -0.61772163  0.20649638 -0.74118231]\n",
      " [ 0.80063775  0.25105202 -0.61772163  4.8485183  -0.28870584 -0.72561521]\n",
      " [ 0.66699488  0.61132038  0.20649638 -0.28870584  2.65137883 -0.4254578 ]\n",
      " [-1.09067671  0.07567567 -0.74118231 -0.72561521 -0.4254578   1.92715747]]\n"
     ]
    }
   ],
   "source": [
    "mu=0.\n",
    "sigma=1.\n",
    "rd.seed(1)\n",
    "eps=0.000001\n",
    "n=6\n",
    "\n",
    "L=[(i+1)*np.identity(n)[i] for i in range(n)]\n",
    "print (L)\n",
    "print (symm_mat(L))\n",
    "\n",
    "\n",
    "\n",
    "\n"
   ]
  },
  {
   "cell_type": "code",
   "execution_count": null,
   "metadata": {},
   "outputs": [],
   "source": []
  },
  {
   "cell_type": "code",
   "execution_count": null,
   "metadata": {},
   "outputs": [],
   "source": []
  }
 ],
 "metadata": {
  "kernelspec": {
   "display_name": "Python 3",
   "language": "python",
   "name": "python3"
  },
  "language_info": {
   "codemirror_mode": {
    "name": "ipython",
    "version": 3
   },
   "file_extension": ".py",
   "mimetype": "text/x-python",
   "name": "python",
   "nbconvert_exporter": "python",
   "pygments_lexer": "ipython3",
   "version": "3.7.4"
  }
 },
 "nbformat": 4,
 "nbformat_minor": 4
}

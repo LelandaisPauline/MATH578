{
 "cells": [
  {
   "cell_type": "markdown",
   "metadata": {},
   "source": [
    "We want to implement a normal distribution functions, then Gaussian elimination with partial pivoting. We also want a growth factor calculator and a matrix norm."
   ]
  },
  {
   "cell_type": "code",
   "execution_count": 1,
   "metadata": {},
   "outputs": [],
   "source": [
    "import numpy as np\n",
    "import matplotlib.pyplot as plt\n",
    "import math\n",
    "import random"
   ]
  },
  {
   "cell_type": "markdown",
   "metadata": {},
   "source": [
    "Functions to generate matrices :"
   ]
  },
  {
   "cell_type": "code",
   "execution_count": 2,
   "metadata": {},
   "outputs": [],
   "source": [
    "def N(x): \n",
    "    #density function of Normal(mu, sigma) distribution\n",
    "    temp=(x-mu)/sigma\n",
    "    factor= -(temp*temp)/2\n",
    "    quotient = sigma*math.sqrt(2*math.pi)\n",
    "    y = math.exp(factor) /quotient\n",
    "    return y"
   ]
  },
  {
   "cell_type": "code",
   "execution_count": 3,
   "metadata": {},
   "outputs": [],
   "source": [
    "def g_mat(n): \n",
    "    #generate an nxn matrix with normally ditributed entries\n",
    "    mat=[]\n",
    "    for i in range(n):\n",
    "        row=[]\n",
    "        for j in range(n):\n",
    "            x=random.random() #this is in [0,1)\n",
    "            y=40*N(x) #I take transform into [0,2)\n",
    "            row.append(y)\n",
    "        mat.append(row)\n",
    "    return mat"
   ]
  },
  {
   "cell_type": "code",
   "execution_count": 4,
   "metadata": {},
   "outputs": [],
   "source": [
    "def g_A(n):\n",
    "    #initialises A tridiagonal nXn\n",
    "    mat= [[0 for i in range(n)] for j in range(n)] #initialising\n",
    "    for i in range(n):\n",
    "        for j in range(n):\n",
    "            if j ==i :\n",
    "                mat[i][j]=i+1\n",
    "            if abs(i-j)== 1:\n",
    "                mat[i][j]=1\n",
    "    return mat"
   ]
  },
  {
   "cell_type": "code",
   "execution_count": 5,
   "metadata": {},
   "outputs": [],
   "source": [
    "def g_b(n):\n",
    "    temp=[1 for i in range(n)]\n",
    "    return temp"
   ]
  },
  {
   "cell_type": "code",
   "execution_count": 6,
   "metadata": {},
   "outputs": [],
   "source": [
    "def g_guess(n):\n",
    "    guess=[]\n",
    "    for i in range(n):\n",
    "        temp=random.random()+1\n",
    "        guess.append(temp)\n",
    "    return guess"
   ]
  },
  {
   "cell_type": "markdown",
   "metadata": {},
   "source": [
    "Functions to perform Gaussian Elimination with Partial Pivoting :"
   ]
  },
  {
   "cell_type": "code",
   "execution_count": 7,
   "metadata": {},
   "outputs": [],
   "source": [
    "def findpivot(array):\n",
    "    #finds maximum element (in absolute value) of an array \n",
    "    p=0\n",
    "    for i in range(len(array)):\n",
    "        temp=abs(array[i])\n",
    "        if temp>abs(array[p]):\n",
    "            p=i      \n",
    "    return p"
   ]
  },
  {
   "cell_type": "code",
   "execution_count": 8,
   "metadata": {},
   "outputs": [],
   "source": [
    "def pivot(mat,k,p):\n",
    "    #switch the kth column of mat with the pth column\n",
    "    temp=mat[k]\n",
    "    mat[k]=mat[p+k]\n",
    "    mat[p+k]=temp#print (\"k is \",k, \" and Im switching row k : \", temp ,\" with row \",p+k,\" : \", mat[k])\n",
    "    return mat"
   ]
  },
  {
   "cell_type": "code",
   "execution_count": 9,
   "metadata": {},
   "outputs": [],
   "source": [
    "def annihilate (mat,k):\n",
    "    #performs elimination on colomn k\n",
    "    temp=mat#print (\"Here k is still \", k)\n",
    "    for i in range(len(mat)-k-1):\n",
    "        factor= mat[i+k+1][k]/mat[k][k] #find fkj#print(\"We look for the column factor : ki = \", factor)\n",
    "        for j in range(len(mat)-k):\n",
    "            temp[i+k+1][j+k]+=-mat[k][j+k]*factor #print(\"We perform GE on mat(i,j) = mat(\",i+1,\",\",j+k,\") = \", temp[i+k+1][j+k])#print (\"Hence the matrix is now \",temp)    #print (\"-------\")\n",
    "    return temp"
   ]
  },
  {
   "cell_type": "code",
   "execution_count": 10,
   "metadata": {},
   "outputs": [],
   "source": [
    "def GE(mat):\n",
    "    #performs Gaussian Elimination on mat\n",
    "    n=len(mat)\n",
    "    temp=mat\n",
    "    for k in range(n-1):\n",
    "        array=[]\n",
    "        for m in range(n-k):\n",
    "            array.append(temp[m+k][k])\n",
    "        p=findpivot(array)#find pivot i\n",
    "        temp=pivot(temp,k ,p)#switch rows i and 1  #print(\"So now the matrix is : \", mat)\n",
    "        temp=annihilate(temp,k)#annihilate column k\n",
    "    return temp"
   ]
  },
  {
   "cell_type": "markdown",
   "metadata": {},
   "source": [
    "Function that compute the growth factor :"
   ]
  },
  {
   "cell_type": "code",
   "execution_count": 11,
   "metadata": {},
   "outputs": [],
   "source": [
    "def growth (A):\n",
    "    #computes the growth factor of 2 nxn matrices A and B\n",
    "    a=matrix_norm(A)\n",
    "    U=GE(A) #performs Gaussian elimination with partial pivoting on A\n",
    "    u=matrix_norm(U)\n",
    "    growth=u/a\n",
    "    return growth"
   ]
  },
  {
   "cell_type": "markdown",
   "metadata": {},
   "source": [
    "Counters :"
   ]
  },
  {
   "cell_type": "code",
   "execution_count": 12,
   "metadata": {},
   "outputs": [],
   "source": [
    "def interval(g_list, inter):\n",
    "    #this computes max, min, subinterval number and length, given an array\n",
    "    ma=max(g_list)\n",
    "    mi=min(g_list)\n",
    "    tot=ma-mi\n",
    "    length=(ma-mi)/inter\n",
    "    return ([ma, mi, tot, length])"
   ]
  },
  {
   "cell_type": "code",
   "execution_count": 13,
   "metadata": {},
   "outputs": [],
   "source": [
    "def subcount(g_list, inter, arr):\n",
    "    #this function counts the number of points of g_list within each intervals given by arr\n",
    "    count=[]\n",
    "    emptyness=[]\n",
    "    for j in range(inter):\n",
    "        l=arr[1]+j*arr[3] #computes lower and upper bound of each subinterval\n",
    "        u=arr[1]+(j+1)*arr[3]#print(\"In the \",j+1,\"th subinterval we look for g between \",l,\" and \",u,)\n",
    "        c=0#initalising\n",
    "        e=1 \n",
    "        for k in range(len(g_list)):\n",
    "            test=g_list[k]\n",
    "            if test>=l: #if the prospect is in the interval\n",
    "                if test <= u:\n",
    "                    c+=1 #count it\n",
    "                    e=0 #else mark this interval empty\n",
    "        count.append(c)\n",
    "        emptyness.append(e)#print(\"This is the tally : \", count)#print(\"This is the empty bool array :\", emptyness)\n",
    "    return [count, emptyness]"
   ]
  },
  {
   "cell_type": "code",
   "execution_count": 14,
   "metadata": {},
   "outputs": [],
   "source": [
    "def refine_up(tally, info): \n",
    "    #given a tally list, this refines the upper bound in info\n",
    "    update_R=1 #boolean\n",
    "    for i in range(len(tally[1])):\n",
    "        if update_R : #if we havent found the uper bound yet\n",
    "            if tally[1][i] : #if this subinterval is empty\n",
    "                r=i#print (\"the \",r+1,\"th interval is empty\")\n",
    "                if r >0: #I did not want to deal with range)(0)=0 and for loops not working there\n",
    "                    Rs=0#initialising\n",
    "                    Ls=0\n",
    "                    #those count where the mass is\n",
    "                    for j in range(r):#print (\"Adding the point in the \",j+1, \"th interval ; that's\", tally[0][j],\"points.\")\n",
    "                        Rs+=tally[0][j] \n",
    "                    for j in range(inter-r-1):#print (\"Adding the point in the \",j+r+1, \"th interval; that's\", tally[0][j+r+1],\"points.\")\n",
    "                        Ls+=tally[0][j+r+1]#print (\"There are \", Rs,\"points on the right and \", Ls, \" on the left\")\n",
    "                    if Rs>Ls: #if the mass is before, we get rif of what after\n",
    "                        info[0]= info[1]+r*info[3]#print(\"So we update the max to \", info[0])\n",
    "                        update_R=0\n",
    "    return info[0]"
   ]
  },
  {
   "cell_type": "code",
   "execution_count": 15,
   "metadata": {},
   "outputs": [],
   "source": [
    "def refine_down(tally, info):\n",
    "    update_L=1\n",
    "    for i in range(len(tally[1])):\n",
    "        if update_L :#print(\"We're looking for a new sharp lower bound\")\n",
    "            if tally[1][len(tally[1])-i-1] :\n",
    "                r=len(tally[1])-i-1#print (\"the \",r+1,\"th interval is empty\")\n",
    "                if r >0:\n",
    "                    Rs=0\n",
    "                    Ls=0\n",
    "                    for j in range(r):#print (\"Adding the point in the \",j+1, \"th interval ; that's\", tally[0][j],\"points.\")\n",
    "                        Rs+=tally[0][j]\n",
    "                    for j in range(inter-r-1):#print (\"Adding the point in the \",j+r+1, \"th interval; that's\", tally[0][j+r+1],\"points.\")\n",
    "                        Ls+=tally[0][j+r+1]#print (\"There are \", Rs,\"points on the right and \", Ls, \" on the left\")\n",
    "                    if Ls>Rs :\n",
    "                        info[1]=info[1]+(r+1)*info[3]#print(\"So we update the min to \", info[1])\n",
    "                        update_L=0\n",
    "    return info[1]"
   ]
  },
  {
   "cell_type": "code",
   "execution_count": 16,
   "metadata": {},
   "outputs": [],
   "source": [
    "def counter(g_list, inter):\n",
    "    #given a dataset and a number of intervals, creates histogram-friendly array\n",
    "    \n",
    "    info=interval(g_list, inter)#print (\"the upper value is : \", info[0],\" and the lower value is : \",info[1],\" so the interval has total length \", info[2], \" and the subintervals have length \", info[3])\n",
    "    tally=subcount(g_list, inter, info)#print(\"-----\")\n",
    "    \n",
    "    while(sumlist(tally[1])>1) :#for h in range(3):#print(\"This is the count :\",tally[0])\n",
    "        info[0]=refine_up(tally, info)\n",
    "        info[1]=refine_down(tally, info)\n",
    "        #update length and sublengths                \n",
    "        info[2]=info[0]-info[1]\n",
    "        info[3]=info[2]/inter#print(\"this is the info array now :\", info)#print (\"the upper value is : \", info[0],\" and the lower value is : \",info[1],\" so the interval has total length \", info[2], \" and the subintervals have length \", info[3])\n",
    "        #count again!\n",
    "        tally=subcount(g_list,inter,info)\n",
    "    \n",
    "    #now I have to truncate the original g_list to feed it to the histogram plotter\n",
    "    truncated=[]\n",
    "    for i in range(len(g_list)):\n",
    "        test=g_list[i]\n",
    "        if test>=info[1]: #if the prospect is in the final interval\n",
    "                if test <= info[0]:\n",
    "                    truncated.append(test)\n",
    "\n",
    "    return [truncated, info]\n"
   ]
  },
  {
   "cell_type": "markdown",
   "metadata": {},
   "source": [
    "Iterative Methods :\n",
    "(Note that these return error norms)"
   ]
  },
  {
   "cell_type": "code",
   "execution_count": 17,
   "metadata": {},
   "outputs": [],
   "source": [
    "def steepest(A,b):\n",
    "    #performs steepest descent n times\n",
    "    #return x and array of residuals\n",
    "    r_list=[] \n",
    "    x=np.array(g_guess(len(b)))\n",
    "    \n",
    "    for i in range(len(b)):\n",
    "        r=b-np.dot(A,x)\n",
    "        r_list.append(r)\n",
    "        r_t=np.transpose(r)\n",
    "        temp=np.dot(r_t,r)\n",
    "        den=np.dot(r_t,np.dot(A,r))\n",
    "        a=temp/den\n",
    "        x=x+a*r\n",
    "\n",
    "    r=b-np.dot(A,x)\n",
    "    r_list.append(r)\n",
    "    return [x,r_list]"
   ]
  },
  {
   "cell_type": "code",
   "execution_count": 18,
   "metadata": {},
   "outputs": [],
   "source": [
    "def CG(A,b):\n",
    "    x_list=[]\n",
    "    x=np.array(g_guess(len(b)))\n",
    "    x_list.append(x)\n",
    "    r_list=[]\n",
    "    r=b-np.dot(A,x)\n",
    "    r_list.append(r)\n",
    "    p=r\n",
    "    for i in range(len(b)+1):\n",
    "        r_t=np.transpose(r)\n",
    "        p_t=np.transpose(p)\n",
    "        \n",
    "        rr=np.dot(r_t,r)\n",
    "        pAp=np.dot(p_t,np.dot(A,p))\n",
    "        \n",
    "        a=rr/pAp\n",
    "        x=x+a*p\n",
    "        x_list.append(x)\n",
    "        r=r-a*np.dot(A,p)\n",
    "        r_t=np.transpose(r)\n",
    "        r_list.append(r)\n",
    "        \n",
    "        b=np.dot(r_t,r)/rr\n",
    "        p=r+b*p\n",
    "    return [x_list,r_list]"
   ]
  },
  {
   "cell_type": "markdown",
   "metadata": {},
   "source": [
    "Norms :"
   ]
  },
  {
   "cell_type": "code",
   "execution_count": 19,
   "metadata": {},
   "outputs": [],
   "source": [
    "def matrix_norm(mat):\n",
    "    #computes the L_{\\infty} norm of an nxn matrix\n",
    "    n=len(mat)\n",
    "    norm=0\n",
    "    for i in range(n):\n",
    "        for j in range(n):\n",
    "            temp=abs(mat[i][j])\n",
    "            if temp>norm:\n",
    "                norm=temp\n",
    "    return norm"
   ]
  },
  {
   "cell_type": "code",
   "execution_count": 20,
   "metadata": {},
   "outputs": [],
   "source": [
    "def sumlist (array):\n",
    "    #sums up elements in an array, I could have made this more versatile I admit\n",
    "    somme=0\n",
    "    for i in range(len(array)):\n",
    "        somme+=abs(array[i])\n",
    "    return somme"
   ]
  },
  {
   "cell_type": "code",
   "execution_count": 21,
   "metadata": {},
   "outputs": [],
   "source": [
    "def L2_norm(vector):\n",
    "    n=len(vector)\n",
    "    norm=0\n",
    "    for i in range(n):\n",
    "        temp=vector[i]*vector[i]\n",
    "        norm+=temp\n",
    "    norm=math.sqrt(norm)\n",
    "    return norm"
   ]
  },
  {
   "cell_type": "markdown",
   "metadata": {},
   "source": [
    "Graphing Helpers :"
   ]
  },
  {
   "cell_type": "code",
   "execution_count": 22,
   "metadata": {},
   "outputs": [],
   "source": [
    "def logscale (array):\n",
    "    n=len(array)\n",
    "    new=[]\n",
    "    for i in range(n):\n",
    "        temp=math.log(array[i])\n",
    "        new.append(temp)\n",
    "    return new"
   ]
  },
  {
   "cell_type": "markdown",
   "metadata": {},
   "source": [
    "Question 1, Part 4 :"
   ]
  },
  {
   "cell_type": "code",
   "execution_count": 46,
   "metadata": {
    "scrolled": true
   },
   "outputs": [
    {
     "name": "stdout",
     "output_type": "stream",
     "text": [
      "[0.017053640637313003, 0.6366061456090024, 0.9805611975757164, 1.3246361013405696, 1.7831431755755764, 2.0631757545871436]\n"
     ]
    },
    {
     "data": {
      "image/png": "[encoded data removed]",
      "text/plain": [
       "<Figure size 720x720 with 1 Axes>"
      ]
     },
     "metadata": {
      "needs_background": "light"
     },
     "output_type": "display_data"
    },
    {
     "name": "stdout",
     "output_type": "stream",
     "text": [
      "The estimated value of alpha is  0.20643534990966805\n"
     ]
    }
   ],
   "source": [
    "mu=0\n",
    "sigma=1\n",
    "\n",
    "fig = plt.figure(figsize=(10,10))\n",
    "ax1 = fig.add_subplot(211)\n",
    "\n",
    "n_list=[20, 70, 100, 200, 400, 600]\n",
    "ite=20\n",
    "g_list=[]\n",
    "\n",
    "for n in n_list:\n",
    "    somme=0\n",
    "    for k in range(ite):\n",
    "        A=g_mat(n) #generates an nxn matrix\n",
    "        temp=growth(A) #computes its growth factor\n",
    "        somme+=temp #adds the values\n",
    "    g=somme/ite #computes average\n",
    "    g_list.append(g)\n",
    "print(logscale(g_list))    \n",
    "\n",
    "ax1.plot(n_list, logscale(g_list))\n",
    "plt.title(r'Growth factor in log scale according to matrix size')\n",
    "plt.xlabel(r'n')\n",
    "plt.ylabel('log(g(A))')\n",
    "plt.show()\n",
    "\n",
    "#### Compute mean alpha :\n",
    "somme=0\n",
    "for i in range(len(n_list)):\n",
    "    g=g_list[i]\n",
    "    n=n_list[i]\n",
    "    a=math.log(g)/math.log(n)\n",
    "    somme+=a\n",
    "alpha=somme/len(n_list)\n",
    "\n",
    "print (\"The estimated value of alpha is \", alpha)\n"
   ]
  },
  {
   "cell_type": "markdown",
   "metadata": {},
   "source": [
    "We see that the graph looks a bit like a log itself, but we see that the computed slope for a best fitted line is around 0.2, so the growth factor grows a bit slower than sqrt(n)."
   ]
  },
  {
   "cell_type": "markdown",
   "metadata": {},
   "source": [
    "Question 1, Part 5 :"
   ]
  },
  {
   "cell_type": "code",
   "execution_count": 33,
   "metadata": {},
   "outputs": [
    {
     "data": {
      "image/png": "[encoded data removed]",
      "text/plain": [
       "<Figure size 432x288 with 1 Axes>"
      ]
     },
     "metadata": {
      "needs_background": "light"
     },
     "output_type": "display_data"
    },
    {
     "data": {
      "image/png": "[encoded data removed]",
      "text/plain": [
       "<Figure size 432x288 with 1 Axes>"
      ]
     },
     "metadata": {
      "needs_background": "light"
     },
     "output_type": "display_data"
    },
    {
     "data": {
      "image/png": "[encoded data removed]",
      "text/plain": [
       "<Figure size 432x288 with 1 Axes>"
      ]
     },
     "metadata": {
      "needs_background": "light"
     },
     "output_type": "display_data"
    },
    {
     "data": {
      "image/png": "[encoded data removed]",
      "text/plain": [
       "<Figure size 432x288 with 1 Axes>"
      ]
     },
     "metadata": {
      "needs_background": "light"
     },
     "output_type": "display_data"
    }
   ],
   "source": [
    "mu=0\n",
    "sigma=1\n",
    "\n",
    "#fig = plt.figure(figsize=(10,10))\n",
    "#ax1 = fig.add_subplot(211)\n",
    "\n",
    "n_list=[10,20,40, 80]\n",
    "ite=200\n",
    "inter=20\n",
    "\n",
    "for n in n_list:\n",
    "    g_list=[]\n",
    "    for k in range(ite):\n",
    "        A=g_mat(n) #generates an nxn matrix\n",
    "        g=growth(A) #computes its growth factor\n",
    "        g_list.append(g)\n",
    "    \n",
    "    result=counter(g_list, inter)\n",
    "    #print(result[1])\n",
    "    plt.hist(result[0], inter)\n",
    "    plt.title(r'Number of {} x {} matrices with growth factors within intervals of length {}'.format(n,n, result[1][3]))\n",
    "    plt.show()"
   ]
  },
  {
   "cell_type": "markdown",
   "metadata": {},
   "source": [
    "It looks like the distribution is deviating from 1 slightly as the matrix size increases, and it's spreading. This makes sense because we have more data so larger chance of being away from the mean. I feel like this also depends on where I'm taking my a_ii values for the matrix A. I chose them randomly between 2*(0,1], which may be putting a constraint on my results."
   ]
  },
  {
   "cell_type": "markdown",
   "metadata": {},
   "source": [
    "Question 2 :"
   ]
  },
  {
   "cell_type": "code",
   "execution_count": null,
   "metadata": {},
   "outputs": [],
   "source": [
    "n=1000\n",
    "A=np.array(g_A(n))\n",
    "kappa=np.linalg.cond(A)\n",
    "b=np.array(g_b(n))\n",
    "b_t=np.transpose(b)\n",
    "\n",
    "fig = plt.figure(figsize=(10,10))\n",
    "ax1 = fig.add_subplot(211)\n",
    "\n",
    "st=steepest(A,b_t)\n",
    "cg=CG(A, b_t)\n",
    "\n",
    "n_list=[]\n",
    "cg_rlist=[]\n",
    "cg_alist=[]\n",
    "st_rlist=[]\n",
    "est_list=[]\n",
    "\n",
    "for i in range(len(b_t)):\n",
    "    n_list.append(i+1)\n",
    "    \n",
    "    cg_r=L2_norm(cg[1][i])\n",
    "    cg_rlist.append(cg_r)\n",
    "    \n",
    "    cg_a=b-np.dot(A, cg[0][i])\n",
    "    cg_a=L2_norm(cg_a)\n",
    "    cg_alist.append(cg_a)\n",
    "    \n",
    "    st_r=L2_norm(st[1][i])\n",
    "    st_rlist.append(st_r)\n",
    "    \n",
    "    temp=math.log(2*math.sqrt(kappa)-1)\n",
    "    den=math.log(2*math.sqrt(kappa)+1)\n",
    "    est=i*temp/den\n",
    "    est_list.append(est)\n",
    "    \n",
    "ax1.plot(n_list,logscale(cg_rlist),label='CG computed residuals') \n",
    "ax1.plot(n_list,logscale(cg_alist),label='CG actual residuals') \n",
    "ax1.plot(n_list,logscale(st_rlist),label='Steepest decent computed residuals') \n",
    "ax1.plot(n_list,est_list,label='Condition Number Est.') \n",
    "\n",
    "    \n",
    "    \n",
    "ax1.set_title(r'CG and steepest descent residual norms in log scale')\n",
    "ax1.xaxis.set_label_coords(.5,.06)\n",
    "ax1.set_xlabel('n')\n",
    "ax1.set_ylabel('y')\n",
    "ax1.legend(loc=\"upper left\")\n"
   ]
  },
  {
   "cell_type": "markdown",
   "metadata": {},
   "source": [
    "Comment : Obviously since the condition number estimate (red line) is proportional to i in log scale, then that grows linearly. We can see that for very large n, the norm of the computed residuals are much smaller than the actual residual (since negative in log scale means the actual data is less that 0). Overall the CG data looks to be much better than what we get from steepest decent."
   ]
  },
  {
   "cell_type": "code",
   "execution_count": null,
   "metadata": {},
   "outputs": [],
   "source": []
  }
 ],
 "metadata": {
  "kernelspec": {
   "display_name": "Python 3",
   "language": "python",
   "name": "python3"
  },
  "language_info": {
   "codemirror_mode": {
    "name": "ipython",
    "version": 3
   },
   "file_extension": ".py",
   "mimetype": "text/x-python",
   "name": "python",
   "nbconvert_exporter": "python",
   "pygments_lexer": "ipython3",
   "version": "3.7.4"
  }
 },
 "nbformat": 4,
 "nbformat_minor": 4
}
